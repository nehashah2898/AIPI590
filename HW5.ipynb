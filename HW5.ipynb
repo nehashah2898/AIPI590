{
  "nbformat": 4,
  "nbformat_minor": 0,
  "metadata": {
    "colab": {
      "provenance": [],
      "authorship_tag": "ABX9TyNC2CP4UQSwLiZzzK5FTeSa",
      "include_colab_link": true
    },
    "kernelspec": {
      "name": "python3",
      "display_name": "Python 3"
    },
    "language_info": {
      "name": "python"
    }
  },
  "cells": [
    {
      "cell_type": "markdown",
      "metadata": {
        "id": "view-in-github",
        "colab_type": "text"
      },
      "source": [
        "<a href=\"https://colab.research.google.com/github/nehashah2898/AIPI590/blob/main/HW5.ipynb\" target=\"_parent\"><img src=\"https://colab.research.google.com/assets/colab-badge.svg\" alt=\"Open In Colab\"/></a>"
      ]
    },
    {
      "cell_type": "code",
      "execution_count": 2,
      "metadata": {
        "colab": {
          "base_uri": "https://localhost:8080/",
          "height": 384
        },
        "id": "AiqZnH3wvvWX",
        "outputId": "717931ad-b20a-414e-cf6d-d4e481590c8d"
      },
      "outputs": [
        {
          "output_type": "error",
          "ename": "ModuleNotFoundError",
          "evalue": "No module named 'pytorch_lightning'",
          "traceback": [
            "\u001b[0;31m---------------------------------------------------------------------------\u001b[0m",
            "\u001b[0;31mModuleNotFoundError\u001b[0m                       Traceback (most recent call last)",
            "\u001b[0;32m/tmp/ipython-input-1394036487.py\u001b[0m in \u001b[0;36m<cell line: 0>\u001b[0;34m()\u001b[0m\n\u001b[1;32m      4\u001b[0m \u001b[0;32mfrom\u001b[0m \u001b[0malbumentations\u001b[0m\u001b[0;34m.\u001b[0m\u001b[0mpytorch\u001b[0m \u001b[0;32mimport\u001b[0m \u001b[0mToTensorV2\u001b[0m\u001b[0;34m\u001b[0m\u001b[0;34m\u001b[0m\u001b[0m\n\u001b[1;32m      5\u001b[0m \u001b[0;32mimport\u001b[0m \u001b[0mtorch\u001b[0m\u001b[0;34m.\u001b[0m\u001b[0mnn\u001b[0m \u001b[0;32mas\u001b[0m \u001b[0mnn\u001b[0m\u001b[0;34m\u001b[0m\u001b[0;34m\u001b[0m\u001b[0m\n\u001b[0;32m----> 6\u001b[0;31m \u001b[0;32mimport\u001b[0m \u001b[0mpytorch_lightning\u001b[0m \u001b[0;32mas\u001b[0m \u001b[0mpl\u001b[0m\u001b[0;34m\u001b[0m\u001b[0;34m\u001b[0m\u001b[0m\n\u001b[0m\u001b[1;32m      7\u001b[0m \u001b[0;32mimport\u001b[0m \u001b[0msegmentation_models_pytorch\u001b[0m \u001b[0;32mas\u001b[0m \u001b[0msmp\u001b[0m\u001b[0;34m\u001b[0m\u001b[0;34m\u001b[0m\u001b[0m\n\u001b[1;32m      8\u001b[0m \u001b[0;32mfrom\u001b[0m \u001b[0mtorch\u001b[0m\u001b[0;34m.\u001b[0m\u001b[0moptim\u001b[0m \u001b[0;32mimport\u001b[0m \u001b[0mlr_scheduler\u001b[0m\u001b[0;34m\u001b[0m\u001b[0;34m\u001b[0m\u001b[0m\n",
            "\u001b[0;31mModuleNotFoundError\u001b[0m: No module named 'pytorch_lightning'",
            "",
            "\u001b[0;31m---------------------------------------------------------------------------\u001b[0;32m\nNOTE: If your import is failing due to a missing package, you can\nmanually install dependencies using either !pip or !apt.\n\nTo view examples of installing some common dependencies, click the\n\"Open Examples\" button below.\n\u001b[0;31m---------------------------------------------------------------------------\u001b[0m\n"
          ],
          "errorDetails": {
            "actions": [
              {
                "action": "open_url",
                "actionText": "Open Examples",
                "url": "/notebooks/snippets/importing_libraries.ipynb"
              }
            ]
          }
        }
      ],
      "source": [
        "\n",
        "import os, cv2, torch, numpy as np\n",
        "from torch.utils.data import DataLoader, Dataset as BaseDataset\n",
        "import albumentations as A\n",
        "from albumentations.pytorch import ToTensorV2\n",
        "import torch.nn as nn\n",
        "import pytorch_lightning as pl\n",
        "import segmentation_models_pytorch as smp\n",
        "from torch.optim import lr_scheduler\n",
        "import copy\n",
        "\n",
        "CLASSES = [\"background\", \"Solar_Panel\", \"Water_heater\", \"Pool_heater\"]\n",
        "COLORS = {0:(0,0,0), 1:(0,255,0), 2:(255,0,0), 3:(0,0,255)}\n",
        "\n",
        "CKPT_PATH = \"/Users/ilseoplee/XAI_AIPI590.01_2025Fall/Week6_artifacts/pv-model-epoch=38-valid_avg_PV_iou=0.9572.ckpt\"\n",
        "IMG_DIR   = \"/Users/ilseoplee/XAI_AIPI590.01_2025Fall/Week6_artifacts/Test_Images_Prd\"\n",
        "OUT_BASE  = \"/Users/ilseoplee/XAI_AIPI590.01_2025Fall/Week6_artifacts\"\n",
        "\n",
        "class PVModel(pl.LightningModule):\n",
        "    def __init__(self, arch, encoder_name, in_channels, out_classes, **kwargs):\n",
        "        super().__init__()\n",
        "        self.model = smp.create_model(\n",
        "            arch, encoder_name=encoder_name, in_channels=in_channels, classes=out_classes, **kwargs\n",
        "        )\n",
        "        params = smp.encoders.get_preprocessing_params(encoder_name)\n",
        "        self.register_buffer(\"std\", torch.tensor(params[\"std\"]).view(1,3,1,1))\n",
        "        self.register_buffer(\"mean\", torch.tensor(params[\"mean\"]).view(1,3,1,1))\n",
        "    def forward(self, image):\n",
        "        image = (image - self.mean) / self.std\n",
        "        return self.model(image)\n",
        "\n",
        "def get_validation_augmentation():\n",
        "    return A.Compose([\n",
        "        A.PadIfNeeded(min_height=320, min_width=320, border_mode=0),\n",
        "        A.CenterCrop(height=320, width=320),\n",
        "        ToTensorV2(),\n",
        "    ])\n",
        "\n",
        "class InferenceDataset(BaseDataset):\n",
        "    def __init__(self, image_dir, augmentation=None):\n",
        "        self.image_paths = [os.path.join(image_dir,f) for f in os.listdir(image_dir)]\n",
        "        self.augmentation = augmentation\n",
        "    def __len__(self): return len(self.image_paths)\n",
        "    def __getitem__(self,i):\n",
        "        img_path = self.image_paths[i]\n",
        "        image = cv2.imread(img_path)\n",
        "        image = cv2.cvtColor(image, cv2.COLOR_BGR2RGB)\n",
        "        if image.shape[:2] != (320,320):\n",
        "            image = cv2.resize(image,(320,320))\n",
        "        if self.augmentation:\n",
        "            sample = self.augmentation(image=image)\n",
        "            image = sample[\"image\"]\n",
        "        else:\n",
        "            image = torch.from_numpy(image.transpose(2,0,1)).float()\n",
        "        return image, str(img_path)\n",
        "\n",
        "device = \"cuda\" if torch.cuda.is_available() else \"cpu\"\n",
        "model = PVModel.load_from_checkpoint(\n",
        "    CKPT_PATH,\n",
        "    arch=\"FPN\",\n",
        "    encoder_name=\"resnext50_32x4d\",\n",
        "    in_channels=3,\n",
        "    out_classes=len(CLASSES),\n",
        "    strict=False\n",
        ").to(device)\n",
        "model.eval()\n",
        "\n",
        "dataset = InferenceDataset(IMG_DIR, augmentation=get_validation_augmentation())\n",
        "loader  = DataLoader(dataset, batch_size=1, shuffle=False)\n",
        "\n",
        "target_layer = model.model.encoder.layer4[-1].conv3\n",
        "print(\"Model and dataset are ready.\")"
      ]
    }
  ]
}